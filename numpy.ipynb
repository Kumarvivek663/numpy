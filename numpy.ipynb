{
 "cells": [
  {
   "cell_type": "markdown",
   "metadata": {},
   "source": [
    "Numpy - Numerical Python\n",
    " "
   ]
  },
  {
   "cell_type": "markdown",
   "metadata": {},
   "source": [
    "A general-purpose array processing package is called Numpy. It offers tools for manipulating these arrays as well as a high-performance multidimensional array object. This is the core Python module for scientific computing."
   ]
  },
  {
   "cell_type": "markdown",
   "metadata": {},
   "source": [
    "Import Numpy"
   ]
  },
  {
   "cell_type": "code",
   "execution_count": 1,
   "metadata": {},
   "outputs": [
    {
     "data": {
      "text/plain": [
       "'2.0.1'"
      ]
     },
     "execution_count": 1,
     "metadata": {},
     "output_type": "execute_result"
    }
   ],
   "source": [
    "import numpy as np\n",
    "np.__version__"
   ]
  },
  {
   "cell_type": "markdown",
   "metadata": {},
   "source": [
    "To Make Array using Numpy module"
   ]
  },
  {
   "cell_type": "code",
   "execution_count": 2,
   "metadata": {},
   "outputs": [
    {
     "data": {
      "text/plain": [
       "array([25, 10, 40, 50, 60])"
      ]
     },
     "execution_count": 2,
     "metadata": {},
     "output_type": "execute_result"
    }
   ],
   "source": [
    "arr = np.array([25,10,40,50,60])\n",
    "arr"
   ]
  },
  {
   "cell_type": "markdown",
   "metadata": {},
   "source": [
    "To find the type of Datatypes"
   ]
  },
  {
   "cell_type": "code",
   "execution_count": 3,
   "metadata": {},
   "outputs": [
    {
     "data": {
      "text/plain": [
       "numpy.ndarray"
      ]
     },
     "execution_count": 3,
     "metadata": {},
     "output_type": "execute_result"
    }
   ],
   "source": [
    "type(arr)"
   ]
  },
  {
   "cell_type": "code",
   "execution_count": 4,
   "metadata": {},
   "outputs": [
    {
     "data": {
      "text/plain": [
       "array([25, 10, 40, 50, 60])"
      ]
     },
     "execution_count": 4,
     "metadata": {},
     "output_type": "execute_result"
    }
   ],
   "source": [
    "ls = [25,10,40,50,60]\n",
    "arr = np.array(ls)\n",
    "arr"
   ]
  },
  {
   "cell_type": "code",
   "execution_count": 5,
   "metadata": {},
   "outputs": [
    {
     "data": {
      "text/plain": [
       "list"
      ]
     },
     "execution_count": 5,
     "metadata": {},
     "output_type": "execute_result"
    }
   ],
   "source": [
    "type(ls)"
   ]
  },
  {
   "cell_type": "markdown",
   "metadata": {},
   "source": [
    "Find the Dimension of the Array"
   ]
  },
  {
   "cell_type": "code",
   "execution_count": 6,
   "metadata": {},
   "outputs": [
    {
     "data": {
      "text/plain": [
       "1"
      ]
     },
     "execution_count": 6,
     "metadata": {},
     "output_type": "execute_result"
    }
   ],
   "source": [
    "arr.ndim"
   ]
  },
  {
   "cell_type": "markdown",
   "metadata": {},
   "source": [
    "Find the size of the Array"
   ]
  },
  {
   "cell_type": "code",
   "execution_count": 7,
   "metadata": {},
   "outputs": [
    {
     "data": {
      "text/plain": [
       "5"
      ]
     },
     "execution_count": 7,
     "metadata": {},
     "output_type": "execute_result"
    }
   ],
   "source": [
    "arr.size"
   ]
  },
  {
   "cell_type": "markdown",
   "metadata": {},
   "source": [
    "Find the length/Size of Array using len() function"
   ]
  },
  {
   "cell_type": "code",
   "execution_count": 8,
   "metadata": {},
   "outputs": [
    {
     "data": {
      "text/plain": [
       "5"
      ]
     },
     "execution_count": 8,
     "metadata": {},
     "output_type": "execute_result"
    }
   ],
   "source": [
    "len(arr)"
   ]
  },
  {
   "cell_type": "markdown",
   "metadata": {},
   "source": [
    "Shape of the Array"
   ]
  },
  {
   "cell_type": "code",
   "execution_count": 9,
   "metadata": {},
   "outputs": [
    {
     "data": {
      "text/plain": [
       "(5,)"
      ]
     },
     "execution_count": 9,
     "metadata": {},
     "output_type": "execute_result"
    }
   ],
   "source": [
    "arr.shape"
   ]
  },
  {
   "cell_type": "markdown",
   "metadata": {},
   "source": [
    "To find the datatypes of Array"
   ]
  },
  {
   "cell_type": "code",
   "execution_count": 10,
   "metadata": {},
   "outputs": [
    {
     "data": {
      "text/plain": [
       "dtype('int64')"
      ]
     },
     "execution_count": 10,
     "metadata": {},
     "output_type": "execute_result"
    }
   ],
   "source": [
    "arr.dtype"
   ]
  },
  {
   "cell_type": "markdown",
   "metadata": {},
   "source": [
    "In this Array We are using Referential data"
   ]
  },
  {
   "cell_type": "code",
   "execution_count": 11,
   "metadata": {},
   "outputs": [
    {
     "data": {
      "text/plain": [
       "array(['25', '10', '20', '30', '40', '50', '60', 'hello'], dtype='<U21')"
      ]
     },
     "execution_count": 11,
     "metadata": {},
     "output_type": "execute_result"
    }
   ],
   "source": [
    "arr = np.array([25,10,20,30,40,50,60,\"hello\"])\n",
    "arr"
   ]
  },
  {
   "cell_type": "markdown",
   "metadata": {},
   "source": [
    "Indexing in Numpy Modules"
   ]
  },
  {
   "cell_type": "code",
   "execution_count": 12,
   "metadata": {},
   "outputs": [
    {
     "data": {
      "text/plain": [
       "array([70])"
      ]
     },
     "execution_count": 12,
     "metadata": {},
     "output_type": "execute_result"
    }
   ],
   "source": [
    "arr = np.array([10,20,30,40,50,60,70,80,90])\n",
    "arr\n",
    "arr[-3:]\n",
    "arr[-1:-4:-5]\n",
    "arr[1:-4:5]\n",
    "arr[-3:7]"
   ]
  },
  {
   "cell_type": "markdown",
   "metadata": {},
   "source": [
    "If we perform addition operation, then each elements of the Array is increment by 5"
   ]
  },
  {
   "cell_type": "code",
   "execution_count": 13,
   "metadata": {},
   "outputs": [
    {
     "data": {
      "text/plain": [
       "array([15, 25, 35, 45, 55, 65, 75, 85, 95])"
      ]
     },
     "execution_count": 13,
     "metadata": {},
     "output_type": "execute_result"
    }
   ],
   "source": [
    "arr + 5"
   ]
  },
  {
   "cell_type": "markdown",
   "metadata": {},
   "source": [
    "If we perform Subtraction operation, then each elements of the Array is decrement by 5"
   ]
  },
  {
   "cell_type": "code",
   "execution_count": 14,
   "metadata": {},
   "outputs": [
    {
     "data": {
      "text/plain": [
       "array([ 5, 15, 25, 35, 45, 55, 65, 75, 85])"
      ]
     },
     "execution_count": 14,
     "metadata": {},
     "output_type": "execute_result"
    }
   ],
   "source": [
    "arr -5"
   ]
  },
  {
   "cell_type": "markdown",
   "metadata": {},
   "source": [
    "If we perform Multiplication operation, then each elements of the Array is multiply by 5"
   ]
  },
  {
   "cell_type": "code",
   "execution_count": 15,
   "metadata": {},
   "outputs": [
    {
     "data": {
      "text/plain": [
       "array([ 50, 100, 150, 200, 250, 300, 350, 400, 450])"
      ]
     },
     "execution_count": 15,
     "metadata": {},
     "output_type": "execute_result"
    }
   ],
   "source": [
    "arr *5"
   ]
  },
  {
   "cell_type": "raw",
   "metadata": {},
   "source": [
    "If we perform Division operation, then each elements of the Array is Divide by 5"
   ]
  },
  {
   "cell_type": "code",
   "execution_count": 16,
   "metadata": {},
   "outputs": [
    {
     "data": {
      "text/plain": [
       "array([ 5., 10., 15., 20., 25., 30., 35., 40., 45.])"
      ]
     },
     "execution_count": 16,
     "metadata": {},
     "output_type": "execute_result"
    }
   ],
   "source": [
    "arr /2"
   ]
  },
  {
   "cell_type": "markdown",
   "metadata": {},
   "source": [
    "To Find the Maximum value in Array"
   ]
  },
  {
   "cell_type": "code",
   "execution_count": 17,
   "metadata": {},
   "outputs": [
    {
     "data": {
      "text/plain": [
       "np.int64(90)"
      ]
     },
     "execution_count": 17,
     "metadata": {},
     "output_type": "execute_result"
    }
   ],
   "source": [
    "max(arr)"
   ]
  },
  {
   "cell_type": "markdown",
   "metadata": {},
   "source": [
    "To Add all the value of the Array"
   ]
  },
  {
   "cell_type": "code",
   "execution_count": 18,
   "metadata": {},
   "outputs": [
    {
     "data": {
      "text/plain": [
       "np.int64(450)"
      ]
     },
     "execution_count": 18,
     "metadata": {},
     "output_type": "execute_result"
    }
   ],
   "source": [
    "sum(arr)"
   ]
  },
  {
   "cell_type": "markdown",
   "metadata": {},
   "source": [
    "Mean = Average "
   ]
  },
  {
   "cell_type": "code",
   "execution_count": 19,
   "metadata": {},
   "outputs": [
    {
     "data": {
      "text/plain": [
       "np.float64(50.0)"
      ]
     },
     "execution_count": 19,
     "metadata": {},
     "output_type": "execute_result"
    }
   ],
   "source": [
    "np.mean(arr)\n",
    "# The Datatype of the Mean is Float"
   ]
  },
  {
   "cell_type": "markdown",
   "metadata": {},
   "source": [
    "Middle Most Element in the Array"
   ]
  },
  {
   "cell_type": "code",
   "execution_count": 20,
   "metadata": {},
   "outputs": [
    {
     "data": {
      "text/plain": [
       "np.float64(50.0)"
      ]
     },
     "execution_count": 20,
     "metadata": {},
     "output_type": "execute_result"
    }
   ],
   "source": [
    "np.median(arr)"
   ]
  },
  {
   "cell_type": "code",
   "execution_count": 21,
   "metadata": {},
   "outputs": [
    {
     "ename": "AttributeError",
     "evalue": "module 'numpy' has no attribute 'mode'",
     "output_type": "error",
     "traceback": [
      "\u001b[1;31m---------------------------------------------------------------------------\u001b[0m",
      "\u001b[1;31mAttributeError\u001b[0m                            Traceback (most recent call last)",
      "Cell \u001b[1;32mIn[21], line 1\u001b[0m\n\u001b[1;32m----> 1\u001b[0m \u001b[43mnp\u001b[49m\u001b[38;5;241;43m.\u001b[39;49m\u001b[43mmode\u001b[49m(arr)\n",
      "File \u001b[1;32m~\\AppData\\Local\\Programs\\Python\\Python312\\Lib\\site-packages\\numpy\\__init__.py:424\u001b[0m, in \u001b[0;36m__getattr__\u001b[1;34m(attr)\u001b[0m\n\u001b[0;32m    421\u001b[0m     \u001b[38;5;28;01mimport\u001b[39;00m \u001b[38;5;21;01mnumpy\u001b[39;00m\u001b[38;5;21;01m.\u001b[39;00m\u001b[38;5;21;01mchar\u001b[39;00m \u001b[38;5;28;01mas\u001b[39;00m \u001b[38;5;21;01mchar\u001b[39;00m\n\u001b[0;32m    422\u001b[0m     \u001b[38;5;28;01mreturn\u001b[39;00m char\u001b[38;5;241m.\u001b[39mchararray\n\u001b[1;32m--> 424\u001b[0m \u001b[38;5;28;01mraise\u001b[39;00m \u001b[38;5;167;01mAttributeError\u001b[39;00m(\u001b[38;5;124m\"\u001b[39m\u001b[38;5;124mmodule \u001b[39m\u001b[38;5;132;01m{!r}\u001b[39;00m\u001b[38;5;124m has no attribute \u001b[39m\u001b[38;5;124m\"\u001b[39m\n\u001b[0;32m    425\u001b[0m                      \u001b[38;5;124m\"\u001b[39m\u001b[38;5;132;01m{!r}\u001b[39;00m\u001b[38;5;124m\"\u001b[39m\u001b[38;5;241m.\u001b[39mformat(\u001b[38;5;18m__name__\u001b[39m, attr))\n",
      "\u001b[1;31mAttributeError\u001b[0m: module 'numpy' has no attribute 'mode'"
     ]
    }
   ],
   "source": [
    "np.mode(arr)"
   ]
  },
  {
   "cell_type": "markdown",
   "metadata": {},
   "source": [
    "Importing Random to Generate random integer value"
   ]
  },
  {
   "cell_type": "code",
   "execution_count": 25,
   "metadata": {},
   "outputs": [],
   "source": [
    "import random"
   ]
  },
  {
   "cell_type": "code",
   "execution_count": 26,
   "metadata": {},
   "outputs": [
    {
     "data": {
      "text/plain": [
       "8"
      ]
     },
     "execution_count": 26,
     "metadata": {},
     "output_type": "execute_result"
    }
   ],
   "source": [
    "random.randint(1,9)    #0 to 9"
   ]
  },
  {
   "cell_type": "markdown",
   "metadata": {},
   "source": [
    "This Function is Used to Generate 500 integer value which are all between 1 to 450"
   ]
  },
  {
   "cell_type": "code",
   "execution_count": 27,
   "metadata": {},
   "outputs": [
    {
     "data": {
      "text/plain": [
       "array([360,  39, 383, 145, 145, 318, 444,  31, 166, 265, 123, 432, 294,\n",
       "       177, 183, 146, 313, 307, 318, 267, 204, 383,   9, 131,  87, 219,\n",
       "       413, 106, 106, 245, 207, 349, 285, 313, 109, 410, 376, 103, 230,\n",
       "       360,  51, 228, 308, 408, 231, 174, 392, 353, 441, 294,  29, 240,\n",
       "         9, 315, 316,  66, 375, 319,  91, 426, 122, 230,  74,  10, 270,\n",
       "       100, 369, 225, 251,  60, 139, 303, 187,  49, 439, 279, 324, 125,\n",
       "       378, 322, 432, 340,  64,  82,  50, 422, 323, 448, 382,  69, 203,\n",
       "       377, 355, 371,  20, 172,  70, 386, 287,   8, 341,  36, 300, 173,\n",
       "       272,  26, 358, 344, 318, 431,  47, 187, 245, 159,  96, 208, 281,\n",
       "       381, 345, 255, 191, 436,  40, 312, 367, 120, 188, 301, 370, 346,\n",
       "       201, 322, 307, 396,  45, 123, 356, 104, 268, 413,  81, 166, 304,\n",
       "       252, 250, 388, 432, 228, 365, 361, 174, 201, 331, 399, 281, 427,\n",
       "        51, 165, 276,  41,  92, 131, 150, 437, 363, 171, 301, 447, 346,\n",
       "       417, 195, 150, 264, 315, 308, 325, 254, 186, 394, 330, 253, 446,\n",
       "       361, 283, 418, 210,  10, 276, 250, 147,  66, 270, 391, 355, 311,\n",
       "       200, 324, 196, 281, 296, 381,  55, 254,  86,  81, 186, 382, 276,\n",
       "       287, 144,  54, 280,  76, 311, 271, 312, 285, 335, 387, 389,  31,\n",
       "       153, 410, 374, 122, 368, 303, 324, 344, 325, 218, 300, 281,  88,\n",
       "       439, 424, 184, 148, 424, 189,  18, 289, 320, 365, 406, 346, 284,\n",
       "       391, 340, 200, 106,  83,  80, 404, 196, 377, 400, 306, 174, 392,\n",
       "        21, 398,  93, 123, 171, 287, 137, 371, 272, 382, 183, 440, 137,\n",
       "       366, 398, 199, 179,  42, 246, 201,  20,  58, 261, 167, 235, 103,\n",
       "       136, 155,  29, 317, 370, 359, 366, 323, 430, 332,  34, 169, 242,\n",
       "       251, 389, 121, 407, 319, 448,  53, 402, 160, 439, 387, 185,  41,\n",
       "       306,  24,  28, 131, 255, 415, 404, 248, 224, 143, 201, 341,  18,\n",
       "        74, 383, 161, 302, 353, 140, 314,  53, 308,  74, 143, 153, 152,\n",
       "       299, 339, 162, 107, 233, 247, 215, 143, 405, 228, 314, 326, 190,\n",
       "       270, 215,  41, 379, 268,  13, 314, 141, 405, 299, 286, 269,  63,\n",
       "       277,  80,  25,  95,  30, 394,  77, 330, 255, 434, 107, 147, 273,\n",
       "       317, 421, 441,  91, 341, 416,  46,   7, 170,  16,  91,  85, 425,\n",
       "       399, 108, 250,  72, 318,  10, 375, 193, 217, 168,  26, 109, 248,\n",
       "       359, 298, 133, 245, 341, 425, 352, 204, 247, 167, 280, 116, 154,\n",
       "       201,  19, 397, 137, 446, 179, 433, 250, 216, 339, 111, 268, 338,\n",
       "       250,  53, 122,  80, 159, 234, 339, 419,  20, 241,   3, 293, 253,\n",
       "       135, 322, 318, 104, 162, 398, 149, 214, 428, 241,   7, 220, 275,\n",
       "       149, 356, 435, 121,  36,  93, 354, 153, 138, 384, 151, 241,  57,\n",
       "        66, 432, 355, 222,   4, 208, 274, 184, 343, 305, 291, 240,  87,\n",
       "       318, 283, 404,  72, 402, 335, 420, 253, 373, 277, 204, 302, 170,\n",
       "       383, 147, 449, 378, 112, 316], dtype=int32)"
      ]
     },
     "execution_count": 27,
     "metadata": {},
     "output_type": "execute_result"
    }
   ],
   "source": [
    "arr = np.random.randint(1,450,500)    # create 500 random number from 1 to 450\n",
    "arr"
   ]
  },
  {
   "cell_type": "code",
   "execution_count": 28,
   "metadata": {},
   "outputs": [
    {
     "data": {
      "text/plain": [
       "array([268, 362,  84, 225, 135,  14, 313, 266, 347, 187, 178, 107, 281,\n",
       "        35, 323, 125,  23, 304,  90, 279, 227,  37, 245, 119, 291, 122,\n",
       "       324, 114, 437, 347, 220, 190, 352, 449,   9, 440, 193, 274, 371,\n",
       "       396, 224,  18,  84, 311, 323, 418, 337, 319, 398, 335, 100, 430,\n",
       "       387, 398, 302, 351,  19, 299, 320, 275, 408,  48, 202, 187, 163,\n",
       "       228, 112, 346, 324, 111, 300, 386, 220, 367, 176, 435, 302, 186,\n",
       "       174, 251, 388, 288, 109,  31, 112,  59, 120, 254,   6,  88, 125,\n",
       "        24, 113, 313, 240, 257, 404, 382, 171, 192, 109,  56, 324, 265,\n",
       "       259, 341, 289, 295, 339, 196, 272, 433, 332,  47, 153,  56, 115,\n",
       "       207, 142, 156, 114,  98, 270, 322,  16, 334,  88, 288, 322, 418,\n",
       "        26, 186, 117,  61, 233,  98, 137, 364,  37,  93, 191,  70, 186,\n",
       "       267, 320, 425, 208, 114, 324, 229,  85, 218, 190, 204,  95, 433,\n",
       "       433, 268, 326, 186, 349, 234, 218, 428, 390, 203, 434,  38, 114,\n",
       "       365, 291, 140, 370, 163, 414, 440, 105, 401, 289, 402, 110, 326,\n",
       "       436, 349, 197, 274, 270, 327,  61, 226,  11, 216, 314, 121,  56,\n",
       "       143, 426, 363, 245, 100, 424, 298, 165, 375, 227, 372,  88, 222,\n",
       "       273, 388,  34, 204,  15, 184,  11, 171, 186, 180, 293, 164, 120,\n",
       "       347, 205, 315, 314, 209,  86, 325, 354, 266,  98, 423, 437,  26,\n",
       "       272, 127, 378, 100,  69, 417,  20, 272,  51, 299, 356, 421, 260,\n",
       "       203,  54, 431, 267, 382, 108,  14, 341,  82, 379, 112, 299, 183,\n",
       "        89, 345, 317,  39, 155,   8, 420, 220, 299, 441, 279, 325,  65,\n",
       "       426,  68, 331, 125, 310, 440, 411, 113, 279,  13, 129, 227,  36,\n",
       "       411, 158, 150, 344, 202, 355, 427, 140, 258, 342,  76,   5, 353,\n",
       "       314, 153, 151, 404,  32, 110, 219, 238, 297, 438, 129, 347, 261,\n",
       "       406,  40, 270, 429, 145, 246, 177,  42, 371, 112, 219, 330, 160,\n",
       "       418, 370, 171,  11, 110, 350,  12, 361, 281, 258,  31,  32,  66,\n",
       "        89, 140, 324, 249, 367, 142, 372, 336, 272, 235, 260, 243, 174,\n",
       "        86, 175, 313, 264, 113, 360, 190, 432, 308, 332, 391, 209,  86,\n",
       "       378, 292, 267, 106,  63, 267, 111, 433, 344, 401, 343, 283,  46,\n",
       "       227, 369, 368,  24, 399, 100, 256, 138,  58, 400,  35, 304, 440,\n",
       "       196, 182, 317,  70, 359,   8, 341, 252,   1, 278, 375, 441, 399,\n",
       "       171,  58,  17, 277, 168, 233,  52, 300, 131, 168, 112, 239, 113,\n",
       "       339, 169,  53, 329, 403, 405, 380, 115, 199,  18, 177, 322,  83,\n",
       "       235, 385, 156,  21, 442,  83, 293, 252, 429,  49, 415, 417, 410,\n",
       "       138, 302,  75, 392, 132, 230, 250,  90,  11, 140, 208, 133, 327,\n",
       "       185, 225, 333, 374,  66, 219, 114, 312, 265, 372, 247,   3, 164,\n",
       "         5, 162,  10, 209, 210,  83,  78, 100, 243, 107, 157, 148,  29,\n",
       "       337, 338, 133, 366, 269, 311,  17, 433, 399, 169,  36,  98, 181,\n",
       "       272, 277, 437, 360, 363, 383], dtype=int32)"
      ]
     },
     "execution_count": 28,
     "metadata": {},
     "output_type": "execute_result"
    }
   ],
   "source": [
    "arr = np.random.randint(1,450,500)    # create 500 random number from 1 to 450\n",
    "arr\n",
    "\n",
    "# try to calculate no of item that are less than 100\n",
    "# try to calculate no of even count"
   ]
  },
  {
   "cell_type": "markdown",
   "metadata": {},
   "source": [
    "Calculate the no. of items that are greater than 100"
   ]
  },
  {
   "cell_type": "code",
   "execution_count": 29,
   "metadata": {},
   "outputs": [
    {
     "name": "stdout",
     "output_type": "stream",
     "text": [
      "Number of values greater than 100: 398\n"
     ]
    }
   ],
   "source": [
    "count_greater_than_100 = np.sum(arr > 100)\n",
    "\n",
    "print(f'Number of values greater than 100: {count_greater_than_100}')"
   ]
  },
  {
   "cell_type": "markdown",
   "metadata": {},
   "source": [
    "Calculate the no. of items that are less than 100"
   ]
  },
  {
   "cell_type": "code",
   "execution_count": 30,
   "metadata": {},
   "outputs": [
    {
     "name": "stdout",
     "output_type": "stream",
     "text": [
      "Number of values less than 100: 97\n"
     ]
    }
   ],
   "source": [
    "count_less_than_100 = np.sum(arr < 100)\n",
    "\n",
    "print(f'Number of values less than 100: {count_less_than_100}')"
   ]
  },
  {
   "cell_type": "code",
   "execution_count": 31,
   "metadata": {},
   "outputs": [
    {
     "name": "stdout",
     "output_type": "stream",
     "text": [
      "Number of even values: 256\n"
     ]
    }
   ],
   "source": [
    "count_even = np.sum(arr % 2 == 0)\n",
    "\n",
    "print(f'Number of even values: {count_even}')"
   ]
  },
  {
   "cell_type": "code",
   "execution_count": 32,
   "metadata": {},
   "outputs": [
    {
     "name": "stdout",
     "output_type": "stream",
     "text": [
      "225\n",
      "135\n",
      "313\n",
      "347\n",
      "187\n",
      "107\n",
      "281\n",
      "35\n",
      "323\n",
      "125\n",
      "23\n",
      "279\n",
      "227\n",
      "37\n",
      "245\n",
      "119\n",
      "291\n",
      "437\n",
      "347\n",
      "449\n",
      "9\n",
      "193\n",
      "371\n",
      "311\n",
      "323\n",
      "337\n",
      "319\n",
      "335\n",
      "387\n",
      "351\n",
      "19\n",
      "299\n",
      "275\n",
      "187\n",
      "163\n",
      "111\n",
      "367\n",
      "435\n",
      "251\n",
      "109\n",
      "31\n",
      "59\n",
      "125\n",
      "113\n",
      "313\n",
      "257\n",
      "171\n",
      "109\n",
      "265\n",
      "259\n",
      "341\n",
      "289\n",
      "295\n",
      "339\n",
      "433\n",
      "47\n",
      "153\n",
      "115\n",
      "207\n",
      "117\n",
      "61\n",
      "233\n",
      "137\n",
      "37\n",
      "93\n",
      "191\n",
      "267\n",
      "425\n",
      "229\n",
      "85\n",
      "95\n",
      "433\n",
      "433\n",
      "349\n",
      "203\n",
      "365\n",
      "291\n",
      "163\n",
      "105\n",
      "401\n",
      "289\n",
      "349\n",
      "197\n",
      "327\n",
      "61\n",
      "11\n",
      "121\n",
      "143\n",
      "363\n",
      "245\n",
      "165\n",
      "375\n",
      "227\n",
      "273\n",
      "15\n",
      "11\n",
      "171\n",
      "293\n",
      "347\n",
      "205\n",
      "315\n",
      "209\n",
      "325\n",
      "423\n",
      "437\n",
      "127\n",
      "69\n",
      "417\n",
      "51\n",
      "299\n",
      "421\n",
      "203\n",
      "431\n",
      "267\n",
      "341\n",
      "379\n",
      "299\n",
      "183\n",
      "89\n",
      "345\n",
      "317\n",
      "39\n",
      "155\n",
      "299\n",
      "441\n",
      "279\n",
      "325\n",
      "65\n",
      "331\n",
      "125\n",
      "411\n",
      "113\n",
      "279\n",
      "13\n",
      "129\n",
      "227\n",
      "411\n",
      "355\n",
      "427\n",
      "5\n",
      "353\n",
      "153\n",
      "151\n",
      "219\n",
      "297\n",
      "129\n",
      "347\n",
      "261\n",
      "429\n",
      "145\n",
      "177\n",
      "371\n",
      "219\n",
      "171\n",
      "11\n",
      "361\n",
      "281\n",
      "31\n",
      "89\n",
      "249\n",
      "367\n",
      "235\n",
      "243\n",
      "175\n",
      "313\n",
      "113\n",
      "391\n",
      "209\n",
      "267\n",
      "63\n",
      "267\n",
      "111\n",
      "433\n",
      "401\n",
      "343\n",
      "283\n",
      "227\n",
      "369\n",
      "399\n",
      "35\n",
      "317\n",
      "359\n",
      "341\n",
      "1\n",
      "375\n",
      "441\n",
      "399\n",
      "171\n",
      "17\n",
      "277\n",
      "233\n",
      "131\n",
      "239\n",
      "113\n",
      "339\n",
      "169\n",
      "53\n",
      "329\n",
      "403\n",
      "405\n",
      "115\n",
      "199\n",
      "177\n",
      "83\n",
      "235\n",
      "385\n",
      "21\n",
      "83\n",
      "293\n",
      "429\n",
      "49\n",
      "415\n",
      "417\n",
      "75\n",
      "11\n",
      "133\n",
      "327\n",
      "185\n",
      "225\n",
      "333\n",
      "219\n",
      "265\n",
      "247\n",
      "3\n",
      "5\n",
      "209\n",
      "83\n",
      "243\n",
      "107\n",
      "157\n",
      "29\n",
      "337\n",
      "133\n",
      "269\n",
      "311\n",
      "17\n",
      "433\n",
      "399\n",
      "169\n",
      "181\n",
      "277\n",
      "437\n",
      "363\n",
      "383\n"
     ]
    }
   ],
   "source": [
    "count_odd = arr[arr % 2 != 0]\n",
    "for no in count_odd :\n",
    "    print(no)"
   ]
  },
  {
   "cell_type": "markdown",
   "metadata": {},
   "source": [
    "2D Array in Numpy"
   ]
  },
  {
   "cell_type": "code",
   "execution_count": 33,
   "metadata": {},
   "outputs": [
    {
     "data": {
      "text/plain": [
       "list"
      ]
     },
     "execution_count": 33,
     "metadata": {},
     "output_type": "execute_result"
    }
   ],
   "source": [
    "ls =[[1,2,3],\n",
    "    [4,5,6],\n",
    "    [7,8,9]]\n",
    "ls\n",
    "type(ls)"
   ]
  },
  {
   "cell_type": "code",
   "execution_count": 34,
   "metadata": {},
   "outputs": [
    {
     "data": {
      "text/plain": [
       "array([[1, 2, 3],\n",
       "       [4, 5, 6],\n",
       "       [7, 8, 9]])"
      ]
     },
     "execution_count": 34,
     "metadata": {},
     "output_type": "execute_result"
    }
   ],
   "source": [
    "arr2 = np.array(ls)\n",
    "arr2"
   ]
  },
  {
   "cell_type": "markdown",
   "metadata": {},
   "source": [
    "To Find Dimension of Array"
   ]
  },
  {
   "cell_type": "code",
   "execution_count": 35,
   "metadata": {},
   "outputs": [
    {
     "data": {
      "text/plain": [
       "2"
      ]
     },
     "execution_count": 35,
     "metadata": {},
     "output_type": "execute_result"
    }
   ],
   "source": [
    "arr2.ndim"
   ]
  },
  {
   "cell_type": "markdown",
   "metadata": {},
   "source": [
    "Shape of the Array"
   ]
  },
  {
   "cell_type": "code",
   "execution_count": 36,
   "metadata": {},
   "outputs": [
    {
     "data": {
      "text/plain": [
       "(3, 3)"
      ]
     },
     "execution_count": 36,
     "metadata": {},
     "output_type": "execute_result"
    }
   ],
   "source": [
    "arr2.shape"
   ]
  },
  {
   "cell_type": "markdown",
   "metadata": {},
   "source": [
    "Indexing Of the Array"
   ]
  },
  {
   "cell_type": "code",
   "execution_count": 37,
   "metadata": {},
   "outputs": [
    {
     "data": {
      "text/plain": [
       "array([4, 5, 6])"
      ]
     },
     "execution_count": 37,
     "metadata": {},
     "output_type": "execute_result"
    }
   ],
   "source": [
    "arr2[1]"
   ]
  },
  {
   "cell_type": "code",
   "execution_count": 38,
   "metadata": {},
   "outputs": [
    {
     "data": {
      "text/plain": [
       "array([[1, 2, 3],\n",
       "       [4, 5, 6],\n",
       "       [7, 8, 9]])"
      ]
     },
     "execution_count": 38,
     "metadata": {},
     "output_type": "execute_result"
    }
   ],
   "source": [
    "arr2[0:3]"
   ]
  },
  {
   "cell_type": "code",
   "execution_count": 39,
   "metadata": {},
   "outputs": [
    {
     "data": {
      "text/plain": [
       "array([[5, 6],\n",
       "       [8, 9]])"
      ]
     },
     "execution_count": 39,
     "metadata": {},
     "output_type": "execute_result"
    }
   ],
   "source": [
    "arr2[1:3,1:3]"
   ]
  },
  {
   "cell_type": "code",
   "execution_count": 40,
   "metadata": {},
   "outputs": [
    {
     "data": {
      "text/plain": [
       "array([2, 5])"
      ]
     },
     "execution_count": 40,
     "metadata": {},
     "output_type": "execute_result"
    }
   ],
   "source": [
    "arr2[0:2,1]"
   ]
  },
  {
   "cell_type": "code",
   "execution_count": 41,
   "metadata": {},
   "outputs": [
    {
     "data": {
      "text/plain": [
       "array([[4, 5],\n",
       "       [7, 8]])"
      ]
     },
     "execution_count": 41,
     "metadata": {},
     "output_type": "execute_result"
    }
   ],
   "source": [
    "arr2[1:3,0:2]"
   ]
  },
  {
   "cell_type": "code",
   "execution_count": 42,
   "metadata": {},
   "outputs": [
    {
     "data": {
      "text/plain": [
       "array([4, 5, 6])"
      ]
     },
     "execution_count": 42,
     "metadata": {},
     "output_type": "execute_result"
    }
   ],
   "source": [
    "arr2[-2]"
   ]
  },
  {
   "cell_type": "code",
   "execution_count": 43,
   "metadata": {},
   "outputs": [
    {
     "data": {
      "text/plain": [
       "array([[1, 2, 3],\n",
       "       [4, 5, 6],\n",
       "       [7, 8, 9]])"
      ]
     },
     "execution_count": 43,
     "metadata": {},
     "output_type": "execute_result"
    }
   ],
   "source": [
    "arr2"
   ]
  },
  {
   "cell_type": "code",
   "execution_count": 44,
   "metadata": {},
   "outputs": [
    {
     "data": {
      "text/plain": [
       "array([3, 6, 9])"
      ]
     },
     "execution_count": 44,
     "metadata": {},
     "output_type": "execute_result"
    }
   ],
   "source": [
    "arr2[0:,2]"
   ]
  },
  {
   "cell_type": "markdown",
   "metadata": {},
   "source": [
    "Functions of Numpy For 2D Array"
   ]
  },
  {
   "cell_type": "code",
   "execution_count": 45,
   "metadata": {},
   "outputs": [
    {
     "data": {
      "text/plain": [
       "array([1., 1., 1., 1., 1., 1., 1., 1., 1., 1.])"
      ]
     },
     "execution_count": 45,
     "metadata": {},
     "output_type": "execute_result"
    }
   ],
   "source": [
    "np.ones(10)"
   ]
  },
  {
   "cell_type": "code",
   "execution_count": 46,
   "metadata": {},
   "outputs": [
    {
     "data": {
      "text/plain": [
       "array([0., 0., 0., 0., 0., 0., 0., 0., 0., 0.])"
      ]
     },
     "execution_count": 46,
     "metadata": {},
     "output_type": "execute_result"
    }
   ],
   "source": [
    "np.zeros(10)"
   ]
  },
  {
   "cell_type": "code",
   "execution_count": 47,
   "metadata": {},
   "outputs": [
    {
     "data": {
      "text/plain": [
       "array([ 1.        ,  6.44444444, 11.88888889, 17.33333333, 22.77777778,\n",
       "       28.22222222, 33.66666667, 39.11111111, 44.55555556, 50.        ])"
      ]
     },
     "execution_count": 47,
     "metadata": {},
     "output_type": "execute_result"
    }
   ],
   "source": [
    "np.linspace(1,50,10)"
   ]
  },
  {
   "cell_type": "markdown",
   "metadata": {},
   "source": [
    "3 Dimensional Array"
   ]
  },
  {
   "cell_type": "code",
   "execution_count": 48,
   "metadata": {},
   "outputs": [],
   "source": [
    "# 3d array\n",
    "import numpy as np"
   ]
  },
  {
   "cell_type": "code",
   "execution_count": 49,
   "metadata": {},
   "outputs": [
    {
     "data": {
      "text/plain": [
       "[[[1, 2, 3], [4, 5, 6], [7, 8, 9]],\n",
       " [[1, 2, 3], [4, 5, 6], [7, 8, 9]],\n",
       " [[1, 2, 3], [4, 5, 6], [7, 8, 9]],\n",
       " [[1, 2, 3], [4, 5, 6], [7, 8, 9]]]"
      ]
     },
     "execution_count": 49,
     "metadata": {},
     "output_type": "execute_result"
    }
   ],
   "source": [
    "ls = [[[1, 2, 3], [4, 5, 6],\n",
    "       [7, 8, 9]], [[1, 2, 3],\n",
    "        [4, 5, 6], [7, 8, 9]],\n",
    "      [[1, 2, 3], [4, 5, 6], [7, 8, 9]],\n",
    "      [[1, 2, 3], [4, 5, 6], [7, 8, 9]]]\n",
    "ls"
   ]
  },
  {
   "cell_type": "code",
   "execution_count": 50,
   "metadata": {},
   "outputs": [
    {
     "data": {
      "text/plain": [
       "array([[[1, 2, 3],\n",
       "        [4, 5, 6],\n",
       "        [7, 8, 9]],\n",
       "\n",
       "       [[1, 2, 3],\n",
       "        [4, 5, 6],\n",
       "        [7, 8, 9]],\n",
       "\n",
       "       [[1, 2, 3],\n",
       "        [4, 5, 6],\n",
       "        [7, 8, 9]],\n",
       "\n",
       "       [[1, 2, 3],\n",
       "        [4, 5, 6],\n",
       "        [7, 8, 9]]])"
      ]
     },
     "execution_count": 50,
     "metadata": {},
     "output_type": "execute_result"
    }
   ],
   "source": [
    "arr3= np.array(ls)\n",
    "arr3"
   ]
  },
  {
   "cell_type": "code",
   "execution_count": 51,
   "metadata": {},
   "outputs": [
    {
     "data": {
      "text/plain": [
       "(4, 3, 3)"
      ]
     },
     "execution_count": 51,
     "metadata": {},
     "output_type": "execute_result"
    }
   ],
   "source": [
    "arr3.shape"
   ]
  },
  {
   "cell_type": "code",
   "execution_count": 52,
   "metadata": {},
   "outputs": [
    {
     "data": {
      "text/plain": [
       "3"
      ]
     },
     "execution_count": 52,
     "metadata": {},
     "output_type": "execute_result"
    }
   ],
   "source": [
    "arr3.ndim"
   ]
  },
  {
   "cell_type": "code",
   "execution_count": 53,
   "metadata": {},
   "outputs": [
    {
     "data": {
      "text/plain": [
       "array([[1, 2, 3],\n",
       "       [4, 5, 6],\n",
       "       [7, 8, 9]])"
      ]
     },
     "execution_count": 53,
     "metadata": {},
     "output_type": "execute_result"
    }
   ],
   "source": [
    "arr3[1]"
   ]
  },
  {
   "cell_type": "code",
   "execution_count": 54,
   "metadata": {},
   "outputs": [
    {
     "data": {
      "text/plain": [
       "array([], shape=(4, 0, 0), dtype=int64)"
      ]
     },
     "execution_count": 54,
     "metadata": {},
     "output_type": "execute_result"
    }
   ],
   "source": [
    "arr3[0:,2:1,2:1]"
   ]
  },
  {
   "cell_type": "code",
   "execution_count": 55,
   "metadata": {},
   "outputs": [
    {
     "data": {
      "text/plain": [
       "array([[[5, 6],\n",
       "        [8, 9]],\n",
       "\n",
       "       [[5, 6],\n",
       "        [8, 9]],\n",
       "\n",
       "       [[5, 6],\n",
       "        [8, 9]],\n",
       "\n",
       "       [[5, 6],\n",
       "        [8, 9]]])"
      ]
     },
     "execution_count": 55,
     "metadata": {},
     "output_type": "execute_result"
    }
   ],
   "source": [
    "arr3[-4:,-2:,-2:]"
   ]
  },
  {
   "cell_type": "code",
   "execution_count": 56,
   "metadata": {},
   "outputs": [
    {
     "data": {
      "text/plain": [
       "array([[2, 5, 8],\n",
       "       [2, 5, 8],\n",
       "       [2, 5, 8]])"
      ]
     },
     "execution_count": 56,
     "metadata": {},
     "output_type": "execute_result"
    }
   ],
   "source": [
    "arr3[-3:,-3:,1]"
   ]
  },
  {
   "cell_type": "code",
   "execution_count": 57,
   "metadata": {},
   "outputs": [
    {
     "data": {
      "text/plain": [
       "array([[5, 6],\n",
       "       [8, 9]])"
      ]
     },
     "execution_count": 57,
     "metadata": {},
     "output_type": "execute_result"
    }
   ],
   "source": [
    "arr3[2,1:,1:]"
   ]
  },
  {
   "cell_type": "code",
   "execution_count": 58,
   "metadata": {},
   "outputs": [
    {
     "data": {
      "text/plain": [
       "array([1, 2, 3, 4, 5, 6, 7, 8, 9, 1, 2, 3, 4, 5, 6, 7, 8, 9, 1, 2, 3, 4,\n",
       "       5, 6, 7, 8, 9, 1, 2, 3, 4, 5, 6, 7, 8, 9])"
      ]
     },
     "execution_count": 58,
     "metadata": {},
     "output_type": "execute_result"
    }
   ],
   "source": [
    "arr3.ravel()  # is used to convert 3 d array in 1d array"
   ]
  },
  {
   "cell_type": "code",
   "execution_count": 59,
   "metadata": {},
   "outputs": [
    {
     "data": {
      "text/plain": [
       "array([1, 2, 3, 4, 5, 6, 7, 8, 9, 1, 2, 3, 4, 5, 6, 7, 8, 9, 1, 2, 3, 4,\n",
       "       5, 6, 7, 8, 9, 1, 2, 3, 4, 5, 6, 7, 8, 9])"
      ]
     },
     "execution_count": 59,
     "metadata": {},
     "output_type": "execute_result"
    }
   ],
   "source": [
    "arr3.flatten()"
   ]
  },
  {
   "cell_type": "code",
   "execution_count": 63,
   "metadata": {},
   "outputs": [
    {
     "data": {
      "text/plain": [
       "array([1, 2, 3, 4, 5, 6, 7, 8, 9, 1, 2, 3, 4, 5, 6, 7, 8, 9, 1, 2, 3, 4,\n",
       "       5, 6, 7, 8, 9, 1, 2, 3, 4, 5, 6, 7, 8, 9])"
      ]
     },
     "execution_count": 63,
     "metadata": {},
     "output_type": "execute_result"
    }
   ],
   "source": [
    "arr3.reshape(36)"
   ]
  },
  {
   "cell_type": "markdown",
   "metadata": {},
   "source": [
    "argmin() Function"
   ]
  },
  {
   "cell_type": "code",
   "execution_count": 62,
   "metadata": {},
   "outputs": [
    {
     "name": "stdout",
     "output_type": "stream",
     "text": [
      "The index of the minimum value is: 3\n"
     ]
    }
   ],
   "source": [
    "import numpy as np\n",
    "arr = np.array([10, 3, 5, 2, 8, 7])\n",
    "min_index = np.argmin(arr)\n",
    "print(\"The index of the minimum value is:\", min_index)"
   ]
  },
  {
   "cell_type": "markdown",
   "metadata": {},
   "source": [
    "argmax() Function"
   ]
  },
  {
   "cell_type": "code",
   "execution_count": 65,
   "metadata": {},
   "outputs": [
    {
     "name": "stdout",
     "output_type": "stream",
     "text": [
      "The index of the maximum value is: 3\n"
     ]
    }
   ],
   "source": [
    "import numpy as np\n",
    "arr = np.array([10, 3, 5, 12, 8, 7])\n",
    "max_index = np.argmax(arr)\n",
    "print(\"The index of the maximum value is:\", max_index)"
   ]
  },
  {
   "cell_type": "markdown",
   "metadata": {},
   "source": [
    "argsort() Function"
   ]
  },
  {
   "cell_type": "code",
   "execution_count": 66,
   "metadata": {},
   "outputs": [
    {
     "name": "stdout",
     "output_type": "stream",
     "text": [
      "The indices that would sort the array are: [1 2 5 4 0 3]\n"
     ]
    }
   ],
   "source": [
    "import numpy as np\n",
    "arr = np.array([10, 3, 5, 12, 8, 7])\n",
    "sorted_indices = np.argsort(arr)\n",
    "print(\"The indices that would sort the array are:\", sorted_indices)"
   ]
  }
 ],
 "metadata": {
  "kernelspec": {
   "display_name": "Python 3 (ipykernel)",
   "language": "python",
   "name": "python3"
  },
  "language_info": {
   "codemirror_mode": {
    "name": "ipython",
    "version": 3
   },
   "file_extension": ".py",
   "mimetype": "text/x-python",
   "name": "python",
   "nbconvert_exporter": "python",
   "pygments_lexer": "ipython3",
   "version": "3.12.4"
  }
 },
 "nbformat": 4,
 "nbformat_minor": 4
}
